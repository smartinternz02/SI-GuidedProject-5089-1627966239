{
 "cells": [
  {
   "cell_type": "code",
   "execution_count": 1,
   "id": "d1e0353e",
   "metadata": {},
   "outputs": [],
   "source": [
    "#Importing some important libraries \n",
    "import numpy as np \n",
    "import pandas as pd\n",
    "#important libraries to habdle catigerocal data\n",
    "from sklearn.compose import ColumnTransformer\n",
    "from sklearn.preprocessing import OneHotEncoder\n",
    "from sklearn.preprocessing import LabelEncoder\n",
    "#libraries to handle splitting \n",
    "from sklearn.model_selection import train_test_split\n",
    "#libraries to handle feature scaling \n",
    "from sklearn.preprocessing import StandardScaler\n",
    "# DL libraries\n",
    "from tensorflow.keras.models import Sequential  \n",
    "from tensorflow.keras.layers import Dense"
   ]
  },
  {
   "cell_type": "code",
   "execution_count": 2,
   "id": "23545ea8",
   "metadata": {},
   "outputs": [],
   "source": [
    "#Reading dataset\n",
    "df = pd.read_csv('bank.csv')"
   ]
  },
  {
   "cell_type": "code",
   "execution_count": 3,
   "id": "ef434885",
   "metadata": {},
   "outputs": [
    {
     "data": {
      "text/html": [
       "<div>\n",
       "<style scoped>\n",
       "    .dataframe tbody tr th:only-of-type {\n",
       "        vertical-align: middle;\n",
       "    }\n",
       "\n",
       "    .dataframe tbody tr th {\n",
       "        vertical-align: top;\n",
       "    }\n",
       "\n",
       "    .dataframe thead th {\n",
       "        text-align: right;\n",
       "    }\n",
       "</style>\n",
       "<table border=\"1\" class=\"dataframe\">\n",
       "  <thead>\n",
       "    <tr style=\"text-align: right;\">\n",
       "      <th></th>\n",
       "      <th>age</th>\n",
       "      <th>job</th>\n",
       "      <th>marital</th>\n",
       "      <th>education</th>\n",
       "      <th>default</th>\n",
       "      <th>balance</th>\n",
       "      <th>housing</th>\n",
       "      <th>loan</th>\n",
       "      <th>contact</th>\n",
       "      <th>day</th>\n",
       "      <th>month</th>\n",
       "      <th>duration</th>\n",
       "      <th>campaign</th>\n",
       "      <th>pdays</th>\n",
       "      <th>previous</th>\n",
       "      <th>poutcome</th>\n",
       "      <th>deposit</th>\n",
       "    </tr>\n",
       "  </thead>\n",
       "  <tbody>\n",
       "    <tr>\n",
       "      <th>0</th>\n",
       "      <td>59</td>\n",
       "      <td>admin.</td>\n",
       "      <td>married</td>\n",
       "      <td>secondary</td>\n",
       "      <td>no</td>\n",
       "      <td>2343</td>\n",
       "      <td>yes</td>\n",
       "      <td>no</td>\n",
       "      <td>unknown</td>\n",
       "      <td>5</td>\n",
       "      <td>may</td>\n",
       "      <td>1042</td>\n",
       "      <td>1</td>\n",
       "      <td>-1</td>\n",
       "      <td>0</td>\n",
       "      <td>unknown</td>\n",
       "      <td>yes</td>\n",
       "    </tr>\n",
       "    <tr>\n",
       "      <th>1</th>\n",
       "      <td>56</td>\n",
       "      <td>admin.</td>\n",
       "      <td>married</td>\n",
       "      <td>secondary</td>\n",
       "      <td>no</td>\n",
       "      <td>45</td>\n",
       "      <td>no</td>\n",
       "      <td>no</td>\n",
       "      <td>unknown</td>\n",
       "      <td>5</td>\n",
       "      <td>may</td>\n",
       "      <td>1467</td>\n",
       "      <td>1</td>\n",
       "      <td>-1</td>\n",
       "      <td>0</td>\n",
       "      <td>unknown</td>\n",
       "      <td>yes</td>\n",
       "    </tr>\n",
       "    <tr>\n",
       "      <th>2</th>\n",
       "      <td>41</td>\n",
       "      <td>technician</td>\n",
       "      <td>married</td>\n",
       "      <td>secondary</td>\n",
       "      <td>no</td>\n",
       "      <td>1270</td>\n",
       "      <td>yes</td>\n",
       "      <td>no</td>\n",
       "      <td>unknown</td>\n",
       "      <td>5</td>\n",
       "      <td>may</td>\n",
       "      <td>1389</td>\n",
       "      <td>1</td>\n",
       "      <td>-1</td>\n",
       "      <td>0</td>\n",
       "      <td>unknown</td>\n",
       "      <td>yes</td>\n",
       "    </tr>\n",
       "    <tr>\n",
       "      <th>3</th>\n",
       "      <td>55</td>\n",
       "      <td>services</td>\n",
       "      <td>married</td>\n",
       "      <td>secondary</td>\n",
       "      <td>no</td>\n",
       "      <td>2476</td>\n",
       "      <td>yes</td>\n",
       "      <td>no</td>\n",
       "      <td>unknown</td>\n",
       "      <td>5</td>\n",
       "      <td>may</td>\n",
       "      <td>579</td>\n",
       "      <td>1</td>\n",
       "      <td>-1</td>\n",
       "      <td>0</td>\n",
       "      <td>unknown</td>\n",
       "      <td>yes</td>\n",
       "    </tr>\n",
       "    <tr>\n",
       "      <th>4</th>\n",
       "      <td>54</td>\n",
       "      <td>admin.</td>\n",
       "      <td>married</td>\n",
       "      <td>tertiary</td>\n",
       "      <td>no</td>\n",
       "      <td>184</td>\n",
       "      <td>no</td>\n",
       "      <td>no</td>\n",
       "      <td>unknown</td>\n",
       "      <td>5</td>\n",
       "      <td>may</td>\n",
       "      <td>673</td>\n",
       "      <td>2</td>\n",
       "      <td>-1</td>\n",
       "      <td>0</td>\n",
       "      <td>unknown</td>\n",
       "      <td>yes</td>\n",
       "    </tr>\n",
       "  </tbody>\n",
       "</table>\n",
       "</div>"
      ],
      "text/plain": [
       "   age         job  marital  education default  balance housing loan  contact  \\\n",
       "0   59      admin.  married  secondary      no     2343     yes   no  unknown   \n",
       "1   56      admin.  married  secondary      no       45      no   no  unknown   \n",
       "2   41  technician  married  secondary      no     1270     yes   no  unknown   \n",
       "3   55    services  married  secondary      no     2476     yes   no  unknown   \n",
       "4   54      admin.  married   tertiary      no      184      no   no  unknown   \n",
       "\n",
       "   day month  duration  campaign  pdays  previous poutcome deposit  \n",
       "0    5   may      1042         1     -1         0  unknown     yes  \n",
       "1    5   may      1467         1     -1         0  unknown     yes  \n",
       "2    5   may      1389         1     -1         0  unknown     yes  \n",
       "3    5   may       579         1     -1         0  unknown     yes  \n",
       "4    5   may       673         2     -1         0  unknown     yes  "
      ]
     },
     "execution_count": 3,
     "metadata": {},
     "output_type": "execute_result"
    }
   ],
   "source": [
    "df.head()"
   ]
  },
  {
   "cell_type": "code",
   "execution_count": 4,
   "id": "1998c121",
   "metadata": {},
   "outputs": [
    {
     "data": {
      "text/plain": [
       "age          0\n",
       "job          0\n",
       "marital      0\n",
       "education    0\n",
       "default      0\n",
       "balance      0\n",
       "housing      0\n",
       "loan         0\n",
       "contact      0\n",
       "day          0\n",
       "month        0\n",
       "duration     0\n",
       "campaign     0\n",
       "pdays        0\n",
       "previous     0\n",
       "poutcome     0\n",
       "deposit      0\n",
       "dtype: int64"
      ]
     },
     "execution_count": 4,
     "metadata": {},
     "output_type": "execute_result"
    }
   ],
   "source": [
    "#checking for missing data if there is any and how many \n",
    "df.isnull().sum()"
   ]
  },
  {
   "cell_type": "code",
   "execution_count": 5,
   "id": "e169cef4",
   "metadata": {},
   "outputs": [
    {
     "name": "stdout",
     "output_type": "stream",
     "text": [
      "<class 'pandas.core.frame.DataFrame'>\n",
      "RangeIndex: 11162 entries, 0 to 11161\n",
      "Data columns (total 17 columns):\n",
      " #   Column     Non-Null Count  Dtype \n",
      "---  ------     --------------  ----- \n",
      " 0   age        11162 non-null  int64 \n",
      " 1   job        11162 non-null  object\n",
      " 2   marital    11162 non-null  object\n",
      " 3   education  11162 non-null  object\n",
      " 4   default    11162 non-null  object\n",
      " 5   balance    11162 non-null  int64 \n",
      " 6   housing    11162 non-null  object\n",
      " 7   loan       11162 non-null  object\n",
      " 8   contact    11162 non-null  object\n",
      " 9   day        11162 non-null  int64 \n",
      " 10  month      11162 non-null  object\n",
      " 11  duration   11162 non-null  int64 \n",
      " 12  campaign   11162 non-null  int64 \n",
      " 13  pdays      11162 non-null  int64 \n",
      " 14  previous   11162 non-null  int64 \n",
      " 15  poutcome   11162 non-null  object\n",
      " 16  deposit    11162 non-null  object\n",
      "dtypes: int64(7), object(10)\n",
      "memory usage: 1.4+ MB\n"
     ]
    }
   ],
   "source": [
    "df.info()"
   ]
  },
  {
   "cell_type": "code",
   "execution_count": 6,
   "id": "6925812c",
   "metadata": {},
   "outputs": [],
   "source": [
    "#Splitting data into inputs as x and outputs as y\n",
    "x = df.iloc[:, :16].values\n",
    "y = df.iloc[:, -1:].values"
   ]
  },
  {
   "cell_type": "code",
   "execution_count": 7,
   "id": "64e4752b",
   "metadata": {},
   "outputs": [
    {
     "data": {
      "text/plain": [
       "(11162, 16)"
      ]
     },
     "execution_count": 7,
     "metadata": {},
     "output_type": "execute_result"
    }
   ],
   "source": [
    "#then we check the input rows and coulmns shape\n",
    "x.shape"
   ]
  },
  {
   "cell_type": "code",
   "execution_count": 8,
   "id": "01def88c",
   "metadata": {},
   "outputs": [
    {
     "data": {
      "text/plain": [
       "array([[59, 'admin.', 'married', ..., -1, 0, 'unknown'],\n",
       "       [56, 'admin.', 'married', ..., -1, 0, 'unknown'],\n",
       "       [41, 'technician', 'married', ..., -1, 0, 'unknown'],\n",
       "       ...,\n",
       "       [32, 'technician', 'single', ..., -1, 0, 'unknown'],\n",
       "       [43, 'technician', 'married', ..., 172, 5, 'failure'],\n",
       "       [34, 'technician', 'married', ..., -1, 0, 'unknown']], dtype=object)"
      ]
     },
     "execution_count": 8,
     "metadata": {},
     "output_type": "execute_result"
    }
   ],
   "source": [
    "x"
   ]
  },
  {
   "cell_type": "code",
   "execution_count": 9,
   "id": "f4e43377",
   "metadata": {},
   "outputs": [
    {
     "data": {
      "text/plain": [
       "(11162, 1)"
      ]
     },
     "execution_count": 9,
     "metadata": {},
     "output_type": "execute_result"
    }
   ],
   "source": [
    "y.shape"
   ]
  },
  {
   "cell_type": "code",
   "execution_count": 10,
   "id": "1de65e40",
   "metadata": {},
   "outputs": [
    {
     "data": {
      "text/plain": [
       "array([['yes'],\n",
       "       ['yes'],\n",
       "       ['yes'],\n",
       "       ...,\n",
       "       ['no'],\n",
       "       ['no'],\n",
       "       ['no']], dtype=object)"
      ]
     },
     "execution_count": 10,
     "metadata": {},
     "output_type": "execute_result"
    }
   ],
   "source": [
    "y\n"
   ]
  },
  {
   "cell_type": "code",
   "execution_count": 11,
   "id": "f124dbab",
   "metadata": {},
   "outputs": [],
   "source": [
    "# Handling categorical data\n",
    "ct = ColumnTransformer([(\"one\",OneHotEncoder(),[1,2,3,4,6,7,8,10,15])],remainder = \"passthrough\")\n",
    "x = ct.fit_transform(x)"
   ]
  },
  {
   "cell_type": "code",
   "execution_count": 12,
   "id": "a81c8f35",
   "metadata": {},
   "outputs": [
    {
     "data": {
      "text/plain": [
       "array([[1.0, 0.0, 0.0, ..., 1, -1, 0],\n",
       "       [1.0, 0.0, 0.0, ..., 1, -1, 0],\n",
       "       [0.0, 0.0, 0.0, ..., 1, -1, 0],\n",
       "       ...,\n",
       "       [0.0, 0.0, 0.0, ..., 2, -1, 0],\n",
       "       [0.0, 0.0, 0.0, ..., 2, 172, 5],\n",
       "       [0.0, 0.0, 0.0, ..., 1, -1, 0]], dtype=object)"
      ]
     },
     "execution_count": 12,
     "metadata": {},
     "output_type": "execute_result"
    }
   ],
   "source": [
    "x"
   ]
  },
  {
   "cell_type": "code",
   "execution_count": 13,
   "id": "1e628dd8",
   "metadata": {},
   "outputs": [],
   "source": [
    "ct2 = ColumnTransformer([('one', OneHotEncoder(), [0])], remainder = 'passthrough')\n",
    "y = ct2.fit_transform(y)"
   ]
  },
  {
   "cell_type": "code",
   "execution_count": 14,
   "id": "cd565500",
   "metadata": {},
   "outputs": [
    {
     "data": {
      "text/plain": [
       "array([[0., 1.],\n",
       "       [0., 1.],\n",
       "       [0., 1.],\n",
       "       ...,\n",
       "       [1., 0.],\n",
       "       [1., 0.],\n",
       "       [1., 0.]])"
      ]
     },
     "execution_count": 14,
     "metadata": {},
     "output_type": "execute_result"
    }
   ],
   "source": [
    "#as we see the yes and no data converted to 0 and 1\n",
    "y"
   ]
  },
  {
   "cell_type": "code",
   "execution_count": 15,
   "id": "c4bf7f1e",
   "metadata": {},
   "outputs": [],
   "source": [
    "# Splitting data to train sets and test sets\n",
    "x_train,x_test,y_train,y_test = train_test_split(x,y,test_size = 0.2, random_state = 0)"
   ]
  },
  {
   "cell_type": "code",
   "execution_count": 16,
   "id": "8bd92651",
   "metadata": {},
   "outputs": [
    {
     "data": {
      "text/plain": [
       "array([[0.0, 0.0, 0.0, ..., 1, -1, 0],\n",
       "       [0.0, 0.0, 0.0, ..., 1, -1, 0],\n",
       "       [0.0, 1.0, 0.0, ..., 5, -1, 0],\n",
       "       ...,\n",
       "       [0.0, 0.0, 0.0, ..., 8, -1, 0],\n",
       "       [1.0, 0.0, 0.0, ..., 1, -1, 0],\n",
       "       [0.0, 0.0, 0.0, ..., 1, -1, 0]], dtype=object)"
      ]
     },
     "execution_count": 16,
     "metadata": {},
     "output_type": "execute_result"
    }
   ],
   "source": [
    "x_train"
   ]
  },
  {
   "cell_type": "code",
   "execution_count": 17,
   "id": "da28ead9",
   "metadata": {},
   "outputs": [
    {
     "ename": "NameError",
     "evalue": "name 'Y_train' is not defined",
     "output_type": "error",
     "traceback": [
      "\u001b[1;31m---------------------------------------------------------------------------\u001b[0m",
      "\u001b[1;31mNameError\u001b[0m                                 Traceback (most recent call last)",
      "\u001b[1;32m<ipython-input-17-4133b87b1e90>\u001b[0m in \u001b[0;36m<module>\u001b[1;34m\u001b[0m\n\u001b[1;32m----> 1\u001b[1;33m \u001b[0mY_train\u001b[0m\u001b[1;33m\u001b[0m\u001b[1;33m\u001b[0m\u001b[0m\n\u001b[0m",
      "\u001b[1;31mNameError\u001b[0m: name 'Y_train' is not defined"
     ]
    }
   ],
   "source": [
    "Y_train"
   ]
  },
  {
   "cell_type": "code",
   "execution_count": 18,
   "id": "8a922804",
   "metadata": {},
   "outputs": [
    {
     "data": {
      "text/plain": [
       "array([[1., 0.],\n",
       "       [0., 1.],\n",
       "       [0., 1.],\n",
       "       ...,\n",
       "       [1., 0.],\n",
       "       [1., 0.],\n",
       "       [0., 1.]])"
      ]
     },
     "execution_count": 18,
     "metadata": {},
     "output_type": "execute_result"
    }
   ],
   "source": [
    "y_train"
   ]
  },
  {
   "cell_type": "code",
   "execution_count": 19,
   "id": "8e23d6ec",
   "metadata": {},
   "outputs": [
    {
     "name": "stdout",
     "output_type": "stream",
     "text": [
      "Inputs shape  (11162, 51)\n",
      "Outputs shape  (11162, 2)\n",
      "x_train shape  (8929, 51)\n",
      "x_test shape  (2233, 51)\n",
      "y_train shape  (8929, 2)\n",
      "y_test shape (2233, 2)\n"
     ]
    }
   ],
   "source": [
    "print('Inputs shape ', x.shape)\n",
    "print('Outputs shape ', y.shape)\n",
    "print('x_train shape ', x_train.shape)\n",
    "print('x_test shape ', x_test.shape)\n",
    "print('y_train shape ', y_train.shape)\n",
    "print('y_test shape', y_test.shape)"
   ]
  },
  {
   "cell_type": "code",
   "execution_count": 20,
   "id": "72aad8d7",
   "metadata": {},
   "outputs": [],
   "source": [
    "#feature scaling \n",
    "sc = StandardScaler()\n",
    "x_train = sc.fit_transform(x_train)\n",
    "x_test = sc.fit_transform(x_test)"
   ]
  },
  {
   "cell_type": "code",
   "execution_count": 21,
   "id": "1b77a862",
   "metadata": {},
   "outputs": [
    {
     "data": {
      "text/plain": [
       "array([[-0.37172192, -0.45760242, -0.17658264, ..., -0.56394809,\n",
       "        -0.48428507, -0.35888264],\n",
       "       [-0.37172192, -0.45760242, -0.17658264, ..., -0.56394809,\n",
       "        -0.48428507, -0.35888264],\n",
       "       [-0.37172192,  2.18530314, -0.17658264, ...,  0.92827075,\n",
       "        -0.48428507, -0.35888264],\n",
       "       ...,\n",
       "       [-0.37172192, -0.45760242, -0.17658264, ...,  2.04743488,\n",
       "        -0.48428507, -0.35888264],\n",
       "       [ 2.69018306, -0.45760242, -0.17658264, ..., -0.56394809,\n",
       "        -0.48428507, -0.35888264],\n",
       "       [-0.37172192, -0.45760242, -0.17658264, ..., -0.56394809,\n",
       "        -0.48428507, -0.35888264]])"
      ]
     },
     "execution_count": 21,
     "metadata": {},
     "output_type": "execute_result"
    }
   ],
   "source": [
    "# as we see compare to the previous x_train data the values has been scaled to similar unified range\n",
    "x_train"
   ]
  },
  {
   "cell_type": "code",
   "execution_count": 22,
   "id": "4b2d6694",
   "metadata": {},
   "outputs": [
    {
     "data": {
      "text/plain": [
       "array([[-0.35506564, -0.46571851, -0.16329932, ..., -0.51893725,\n",
       "         2.62409874,  0.62465525],\n",
       "       [-0.35506564, -0.46571851, -0.16329932, ..., -0.51893725,\n",
       "         1.30248101,  1.63872661],\n",
       "       [-0.35506564, -0.46571851, -0.16329932, ..., -0.17189116,\n",
       "        -0.46885387, -0.38941612],\n",
       "       ...,\n",
       "       [-0.35506564, -0.46571851, -0.16329932, ..., -0.17189116,\n",
       "        -0.46885387, -0.38941612],\n",
       "       [ 2.81638066, -0.46571851, -0.16329932, ..., -0.51893725,\n",
       "        -0.46885387, -0.38941612],\n",
       "       [-0.35506564, -0.46571851, -0.16329932, ..., -0.17189116,\n",
       "        -0.46885387, -0.38941612]])"
      ]
     },
     "execution_count": 22,
     "metadata": {},
     "output_type": "execute_result"
    }
   ],
   "source": [
    "#same scaling feature thing goes for x_text data value\n",
    "x_test"
   ]
  },
  {
   "cell_type": "code",
   "execution_count": 23,
   "id": "547c8e6d",
   "metadata": {},
   "outputs": [
    {
     "name": "stdout",
     "output_type": "stream",
     "text": [
      "Epoch 1/100\n",
      "280/280 [==============================] - 0s 1ms/step - loss: 0.4364 - accuracy: 0.7950\n",
      "Epoch 2/100\n",
      "280/280 [==============================] - 0s 1ms/step - loss: 0.3596 - accuracy: 0.8480\n",
      "Epoch 3/100\n",
      "280/280 [==============================] - 0s 1ms/step - loss: 0.3445 - accuracy: 0.8563\n",
      "Epoch 4/100\n",
      "280/280 [==============================] - 0s 1ms/step - loss: 0.3341 - accuracy: 0.8625\n",
      "Epoch 5/100\n",
      "280/280 [==============================] - 0s 1ms/step - loss: 0.3279 - accuracy: 0.8639\n",
      "Epoch 6/100\n",
      "280/280 [==============================] - 0s 1ms/step - loss: 0.3158 - accuracy: 0.8703\n",
      "Epoch 7/100\n",
      "280/280 [==============================] - 0s 1ms/step - loss: 0.3099 - accuracy: 0.8708\n",
      "Epoch 8/100\n",
      "280/280 [==============================] - 0s 1ms/step - loss: 0.3017 - accuracy: 0.8790\n",
      "Epoch 9/100\n",
      "280/280 [==============================] - 0s 1ms/step - loss: 0.3000 - accuracy: 0.8753\n",
      "Epoch 10/100\n",
      "280/280 [==============================] - 0s 1ms/step - loss: 0.2913 - accuracy: 0.8812\n",
      "Epoch 11/100\n",
      "280/280 [==============================] - 0s 1ms/step - loss: 0.2877 - accuracy: 0.8840\n",
      "Epoch 12/100\n",
      "280/280 [==============================] - 0s 2ms/step - loss: 0.2847 - accuracy: 0.8829\n",
      "Epoch 13/100\n",
      "280/280 [==============================] - 0s 1ms/step - loss: 0.2784 - accuracy: 0.8855\n",
      "Epoch 14/100\n",
      "280/280 [==============================] - 1s 2ms/step - loss: 0.2757 - accuracy: 0.8876\n",
      "Epoch 15/100\n",
      "280/280 [==============================] - 0s 1ms/step - loss: 0.2682 - accuracy: 0.8887\n",
      "Epoch 16/100\n",
      "280/280 [==============================] - 0s 1ms/step - loss: 0.2638 - accuracy: 0.8916\n",
      "Epoch 17/100\n",
      "280/280 [==============================] - 0s 989us/step - loss: 0.2564 - accuracy: 0.8934\n",
      "Epoch 18/100\n",
      "280/280 [==============================] - 0s 1ms/step - loss: 0.2528 - accuracy: 0.8969\n",
      "Epoch 19/100\n",
      "280/280 [==============================] - 1s 2ms/step - loss: 0.2470 - accuracy: 0.8971\n",
      "Epoch 20/100\n",
      "280/280 [==============================] - 1s 2ms/step - loss: 0.2467 - accuracy: 0.8977\n",
      "Epoch 21/100\n",
      "280/280 [==============================] - 0s 1ms/step - loss: 0.2363 - accuracy: 0.8999\n",
      "Epoch 22/100\n",
      "280/280 [==============================] - 0s 1ms/step - loss: 0.2360 - accuracy: 0.9025\n",
      "Epoch 23/100\n",
      "280/280 [==============================] - 0s 1ms/step - loss: 0.2244 - accuracy: 0.9065\n",
      "Epoch 24/100\n",
      "280/280 [==============================] - 0s 1ms/step - loss: 0.2303 - accuracy: 0.9039\n",
      "Epoch 25/100\n",
      "280/280 [==============================] - 0s 2ms/step - loss: 0.2342 - accuracy: 0.9004\n",
      "Epoch 26/100\n",
      "280/280 [==============================] - 0s 1ms/step - loss: 0.2129 - accuracy: 0.9095\n",
      "Epoch 27/100\n",
      "280/280 [==============================] - 0s 1ms/step - loss: 0.2193 - accuracy: 0.9065\n",
      "Epoch 28/100\n",
      "280/280 [==============================] - 0s 1ms/step - loss: 0.2037 - accuracy: 0.9123\n",
      "Epoch 29/100\n",
      "280/280 [==============================] - 0s 1ms/step - loss: 0.1992 - accuracy: 0.9151\n",
      "Epoch 30/100\n",
      "280/280 [==============================] - 0s 1ms/step - loss: 0.1916 - accuracy: 0.9193\n",
      "Epoch 31/100\n",
      "280/280 [==============================] - 0s 1ms/step - loss: 0.1906 - accuracy: 0.9160\n",
      "Epoch 32/100\n",
      "280/280 [==============================] - 0s 1ms/step - loss: 0.1825 - accuracy: 0.9219\n",
      "Epoch 33/100\n",
      "280/280 [==============================] - 0s 1ms/step - loss: 0.1793 - accuracy: 0.9242\n",
      "Epoch 34/100\n",
      "280/280 [==============================] - 0s 1ms/step - loss: 0.1796 - accuracy: 0.9210\n",
      "Epoch 35/100\n",
      "280/280 [==============================] - 0s 1ms/step - loss: 0.1727 - accuracy: 0.9245\n",
      "Epoch 36/100\n",
      "280/280 [==============================] - 0s 2ms/step - loss: 0.1621 - accuracy: 0.9300\n",
      "Epoch 37/100\n",
      "280/280 [==============================] - 0s 1ms/step - loss: 0.1602 - accuracy: 0.9280\n",
      "Epoch 38/100\n",
      "280/280 [==============================] - 0s 1ms/step - loss: 0.1602 - accuracy: 0.9270\n",
      "Epoch 39/100\n",
      "280/280 [==============================] - 0s 1ms/step - loss: 0.1501 - accuracy: 0.9316\n",
      "Epoch 40/100\n",
      "280/280 [==============================] - 1s 2ms/step - loss: 0.1495 - accuracy: 0.9346\n",
      "Epoch 41/100\n",
      "280/280 [==============================] - 0s 1ms/step - loss: 0.1461 - accuracy: 0.9366\n",
      "Epoch 42/100\n",
      "280/280 [==============================] - 0s 1ms/step - loss: 0.1593 - accuracy: 0.9300\n",
      "Epoch 43/100\n",
      "280/280 [==============================] - 0s 966us/step - loss: 0.1378 - accuracy: 0.9387\n",
      "Epoch 44/100\n",
      "280/280 [==============================] - 0s 1ms/step - loss: 0.1336 - accuracy: 0.9412\n",
      "Epoch 45/100\n",
      "280/280 [==============================] - 0s 1ms/step - loss: 0.1271 - accuracy: 0.9452\n",
      "Epoch 46/100\n",
      "280/280 [==============================] - 0s 987us/step - loss: 0.1209 - accuracy: 0.9447\n",
      "Epoch 47/100\n",
      "280/280 [==============================] - 0s 1ms/step - loss: 0.1110 - accuracy: 0.9509\n",
      "Epoch 48/100\n",
      "280/280 [==============================] - 0s 1ms/step - loss: 0.1161 - accuracy: 0.9493\n",
      "Epoch 49/100\n",
      "280/280 [==============================] - 0s 1ms/step - loss: 0.1193 - accuracy: 0.9467\n",
      "Epoch 50/100\n",
      "280/280 [==============================] - 0s 1ms/step - loss: 0.1215 - accuracy: 0.9484\n",
      "Epoch 51/100\n",
      "280/280 [==============================] - 0s 1ms/step - loss: 0.1134 - accuracy: 0.9521\n",
      "Epoch 52/100\n",
      "280/280 [==============================] - 0s 1ms/step - loss: 0.0986 - accuracy: 0.9601\n",
      "Epoch 53/100\n",
      "280/280 [==============================] - 0s 1ms/step - loss: 0.1240 - accuracy: 0.9428\n",
      "Epoch 54/100\n",
      "280/280 [==============================] - 0s 1ms/step - loss: 0.1044 - accuracy: 0.9558\n",
      "Epoch 55/100\n",
      "280/280 [==============================] - 0s 1ms/step - loss: 0.0826 - accuracy: 0.9628\n",
      "Epoch 56/100\n",
      "280/280 [==============================] - 0s 2ms/step - loss: 0.0843 - accuracy: 0.9639\n",
      "Epoch 57/100\n",
      "280/280 [==============================] - 0s 1ms/step - loss: 0.0950 - accuracy: 0.9616\n",
      "Epoch 58/100\n",
      "280/280 [==============================] - 0s 1ms/step - loss: 0.0895 - accuracy: 0.9639\n",
      "Epoch 59/100\n",
      "280/280 [==============================] - 0s 1ms/step - loss: 0.0844 - accuracy: 0.9673\n",
      "Epoch 60/100\n",
      "280/280 [==============================] - 0s 1ms/step - loss: 0.0942 - accuracy: 0.9610\n",
      "Epoch 61/100\n",
      "280/280 [==============================] - 0s 985us/step - loss: 0.0770 - accuracy: 0.9681\n",
      "Epoch 62/100\n",
      "280/280 [==============================] - 0s 1ms/step - loss: 0.0832 - accuracy: 0.9648\n",
      "Epoch 63/100\n",
      "280/280 [==============================] - 0s 1ms/step - loss: 0.0933 - accuracy: 0.9612\n",
      "Epoch 64/100\n",
      "280/280 [==============================] - 0s 1ms/step - loss: 0.0970 - accuracy: 0.9635\n",
      "Epoch 65/100\n",
      "280/280 [==============================] - 0s 983us/step - loss: 0.0626 - accuracy: 0.9742\n",
      "Epoch 66/100\n",
      "280/280 [==============================] - 0s 1ms/step - loss: 0.0606 - accuracy: 0.9747\n",
      "Epoch 67/100\n",
      "280/280 [==============================] - 0s 1ms/step - loss: 0.0572 - accuracy: 0.9770\n",
      "Epoch 68/100\n",
      "280/280 [==============================] - 0s 993us/step - loss: 0.0711 - accuracy: 0.9722\n",
      "Epoch 69/100\n",
      "280/280 [==============================] - 0s 1ms/step - loss: 0.0874 - accuracy: 0.9652\n",
      "Epoch 70/100\n",
      "280/280 [==============================] - 0s 1ms/step - loss: 0.0863 - accuracy: 0.9686\n",
      "Epoch 71/100\n",
      "280/280 [==============================] - 0s 1ms/step - loss: 0.0630 - accuracy: 0.9760\n",
      "Epoch 72/100\n",
      "280/280 [==============================] - 0s 1ms/step - loss: 0.0572 - accuracy: 0.9795\n",
      "Epoch 73/100\n",
      "280/280 [==============================] - 0s 1ms/step - loss: 0.0631 - accuracy: 0.9767\n",
      "Epoch 74/100\n",
      "280/280 [==============================] - 0s 1ms/step - loss: 0.0682 - accuracy: 0.9718: 0s - loss: 0.0672 - accuracy: 0.\n",
      "Epoch 75/100\n",
      "280/280 [==============================] - 0s 2ms/step - loss: 0.0521 - accuracy: 0.9805\n",
      "Epoch 76/100\n",
      "280/280 [==============================] - 0s 1ms/step - loss: 0.0559 - accuracy: 0.9797\n",
      "Epoch 77/100\n",
      "280/280 [==============================] - 0s 2ms/step - loss: 0.0626 - accuracy: 0.9742\n",
      "Epoch 78/100\n",
      "280/280 [==============================] - 0s 2ms/step - loss: 0.0646 - accuracy: 0.9788\n",
      "Epoch 79/100\n",
      "280/280 [==============================] - 1s 2ms/step - loss: 0.0558 - accuracy: 0.9791: 0s - loss: 0.0560 - accuracy: 0.\n",
      "Epoch 80/100\n"
     ]
    },
    {
     "name": "stdout",
     "output_type": "stream",
     "text": [
      "280/280 [==============================] - ETA: 0s - loss: 0.0545 - accuracy: 0.97 - 1s 2ms/step - loss: 0.0559 - accuracy: 0.9783\n",
      "Epoch 81/100\n",
      "280/280 [==============================] - 0s 1ms/step - loss: 0.0543 - accuracy: 0.9807\n",
      "Epoch 82/100\n",
      "280/280 [==============================] - 0s 935us/step - loss: 0.0424 - accuracy: 0.9838\n",
      "Epoch 83/100\n",
      "280/280 [==============================] - 0s 1ms/step - loss: 0.0534 - accuracy: 0.9798\n",
      "Epoch 84/100\n",
      "280/280 [==============================] - 0s 2ms/step - loss: 0.0587 - accuracy: 0.9801\n",
      "Epoch 85/100\n",
      "280/280 [==============================] - 0s 1ms/step - loss: 0.0534 - accuracy: 0.9797\n",
      "Epoch 86/100\n",
      "280/280 [==============================] - 0s 2ms/step - loss: 0.0647 - accuracy: 0.9769\n",
      "Epoch 87/100\n",
      "280/280 [==============================] - 0s 1ms/step - loss: 0.0585 - accuracy: 0.9804\n",
      "Epoch 88/100\n",
      "280/280 [==============================] - 0s 1ms/step - loss: 0.0406 - accuracy: 0.9859\n",
      "Epoch 89/100\n",
      "280/280 [==============================] - 0s 1ms/step - loss: 0.0256 - accuracy: 0.9917\n",
      "Epoch 90/100\n",
      "280/280 [==============================] - 0s 1ms/step - loss: 0.0225 - accuracy: 0.9920\n",
      "Epoch 91/100\n",
      "280/280 [==============================] - 0s 1ms/step - loss: 0.0268 - accuracy: 0.9895\n",
      "Epoch 92/100\n",
      "280/280 [==============================] - 0s 1ms/step - loss: 0.0709 - accuracy: 0.9741\n",
      "Epoch 93/100\n",
      "280/280 [==============================] - 0s 1ms/step - loss: 0.0769 - accuracy: 0.9719\n",
      "Epoch 94/100\n",
      "280/280 [==============================] - 0s 1ms/step - loss: 0.0625 - accuracy: 0.9772\n",
      "Epoch 95/100\n",
      "280/280 [==============================] - 0s 1ms/step - loss: 0.0537 - accuracy: 0.9821\n",
      "Epoch 96/100\n",
      "280/280 [==============================] - 0s 1ms/step - loss: 0.0380 - accuracy: 0.9876\n",
      "Epoch 97/100\n",
      "280/280 [==============================] - 0s 1ms/step - loss: 0.0223 - accuracy: 0.9933\n",
      "Epoch 98/100\n",
      "280/280 [==============================] - 0s 1ms/step - loss: 0.0188 - accuracy: 0.9941\n",
      "Epoch 99/100\n",
      "280/280 [==============================] - 0s 1ms/step - loss: 0.0204 - accuracy: 0.9933\n",
      "Epoch 100/100\n",
      "280/280 [==============================] - 0s 1ms/step - loss: 0.0219 - accuracy: 0.9931\n"
     ]
    },
    {
     "data": {
      "text/plain": [
       "<tensorflow.python.keras.callbacks.History at 0x2816cf6e3d0>"
      ]
     },
     "execution_count": 23,
     "metadata": {},
     "output_type": "execute_result"
    }
   ],
   "source": [
    "# now we do the deep learning ann modeling\n",
    "ob = Sequential()\n",
    "ob.add(Dense(units = 50, kernel_initializer = 'random_uniform', activation = 'relu'))# Input layer\n",
    "ob.add(Dense(units = 100, kernel_initializer = 'random_uniform', activation = 'relu'))# Hidden layer 1 \n",
    "ob.add(Dense(units = 100, kernel_initializer = 'random_uniform', activation = 'relu'))# Hidden layer 2\n",
    "ob.add(Dense(units = 2, kernel_initializer = 'random_uniform', activation = 'softmax'))# Output layer \n",
    "ob.compile(optimizer = 'adam', loss = 'categorical_crossentropy', metrics = ['accuracy'])# Compiling model \n",
    "ob.fit(x_train, y_train, epochs = 100)# Training the model"
   ]
  },
  {
   "cell_type": "code",
   "execution_count": 24,
   "id": "1b638384",
   "metadata": {},
   "outputs": [
    {
     "data": {
      "text/plain": [
       "array([[1.0000000e+00, 4.3574384e-25],\n",
       "       [4.1056976e-09, 1.0000000e+00],\n",
       "       [1.0000000e+00, 6.9362336e-32],\n",
       "       ...,\n",
       "       [4.2960291e-15, 1.0000000e+00],\n",
       "       [9.9999976e-01, 1.8472095e-07],\n",
       "       [1.0000000e+00, 2.6970641e-09]], dtype=float32)"
      ]
     },
     "execution_count": 24,
     "metadata": {},
     "output_type": "execute_result"
    }
   ],
   "source": [
    "ypred = ob.predict(x_test)\n",
    "ypred"
   ]
  },
  {
   "cell_type": "code",
   "execution_count": 25,
   "id": "b4542f8c",
   "metadata": {},
   "outputs": [
    {
     "data": {
      "text/html": [
       "<div>\n",
       "<style scoped>\n",
       "    .dataframe tbody tr th:only-of-type {\n",
       "        vertical-align: middle;\n",
       "    }\n",
       "\n",
       "    .dataframe tbody tr th {\n",
       "        vertical-align: top;\n",
       "    }\n",
       "\n",
       "    .dataframe thead th {\n",
       "        text-align: right;\n",
       "    }\n",
       "</style>\n",
       "<table border=\"1\" class=\"dataframe\">\n",
       "  <thead>\n",
       "    <tr style=\"text-align: right;\">\n",
       "      <th></th>\n",
       "      <th>age</th>\n",
       "      <th>job</th>\n",
       "      <th>marital</th>\n",
       "      <th>education</th>\n",
       "      <th>default</th>\n",
       "      <th>balance</th>\n",
       "      <th>housing</th>\n",
       "      <th>loan</th>\n",
       "      <th>contact</th>\n",
       "      <th>day</th>\n",
       "      <th>month</th>\n",
       "      <th>duration</th>\n",
       "      <th>campaign</th>\n",
       "      <th>pdays</th>\n",
       "      <th>previous</th>\n",
       "      <th>poutcome</th>\n",
       "      <th>deposit</th>\n",
       "    </tr>\n",
       "  </thead>\n",
       "  <tbody>\n",
       "    <tr>\n",
       "      <th>0</th>\n",
       "      <td>59</td>\n",
       "      <td>admin.</td>\n",
       "      <td>married</td>\n",
       "      <td>secondary</td>\n",
       "      <td>no</td>\n",
       "      <td>2343</td>\n",
       "      <td>yes</td>\n",
       "      <td>no</td>\n",
       "      <td>unknown</td>\n",
       "      <td>5</td>\n",
       "      <td>may</td>\n",
       "      <td>1042</td>\n",
       "      <td>1</td>\n",
       "      <td>-1</td>\n",
       "      <td>0</td>\n",
       "      <td>unknown</td>\n",
       "      <td>yes</td>\n",
       "    </tr>\n",
       "    <tr>\n",
       "      <th>1</th>\n",
       "      <td>56</td>\n",
       "      <td>admin.</td>\n",
       "      <td>married</td>\n",
       "      <td>secondary</td>\n",
       "      <td>no</td>\n",
       "      <td>45</td>\n",
       "      <td>no</td>\n",
       "      <td>no</td>\n",
       "      <td>unknown</td>\n",
       "      <td>5</td>\n",
       "      <td>may</td>\n",
       "      <td>1467</td>\n",
       "      <td>1</td>\n",
       "      <td>-1</td>\n",
       "      <td>0</td>\n",
       "      <td>unknown</td>\n",
       "      <td>yes</td>\n",
       "    </tr>\n",
       "    <tr>\n",
       "      <th>2</th>\n",
       "      <td>41</td>\n",
       "      <td>technician</td>\n",
       "      <td>married</td>\n",
       "      <td>secondary</td>\n",
       "      <td>no</td>\n",
       "      <td>1270</td>\n",
       "      <td>yes</td>\n",
       "      <td>no</td>\n",
       "      <td>unknown</td>\n",
       "      <td>5</td>\n",
       "      <td>may</td>\n",
       "      <td>1389</td>\n",
       "      <td>1</td>\n",
       "      <td>-1</td>\n",
       "      <td>0</td>\n",
       "      <td>unknown</td>\n",
       "      <td>yes</td>\n",
       "    </tr>\n",
       "    <tr>\n",
       "      <th>3</th>\n",
       "      <td>55</td>\n",
       "      <td>services</td>\n",
       "      <td>married</td>\n",
       "      <td>secondary</td>\n",
       "      <td>no</td>\n",
       "      <td>2476</td>\n",
       "      <td>yes</td>\n",
       "      <td>no</td>\n",
       "      <td>unknown</td>\n",
       "      <td>5</td>\n",
       "      <td>may</td>\n",
       "      <td>579</td>\n",
       "      <td>1</td>\n",
       "      <td>-1</td>\n",
       "      <td>0</td>\n",
       "      <td>unknown</td>\n",
       "      <td>yes</td>\n",
       "    </tr>\n",
       "    <tr>\n",
       "      <th>4</th>\n",
       "      <td>54</td>\n",
       "      <td>admin.</td>\n",
       "      <td>married</td>\n",
       "      <td>tertiary</td>\n",
       "      <td>no</td>\n",
       "      <td>184</td>\n",
       "      <td>no</td>\n",
       "      <td>no</td>\n",
       "      <td>unknown</td>\n",
       "      <td>5</td>\n",
       "      <td>may</td>\n",
       "      <td>673</td>\n",
       "      <td>2</td>\n",
       "      <td>-1</td>\n",
       "      <td>0</td>\n",
       "      <td>unknown</td>\n",
       "      <td>yes</td>\n",
       "    </tr>\n",
       "  </tbody>\n",
       "</table>\n",
       "</div>"
      ],
      "text/plain": [
       "   age         job  marital  education default  balance housing loan  contact  \\\n",
       "0   59      admin.  married  secondary      no     2343     yes   no  unknown   \n",
       "1   56      admin.  married  secondary      no       45      no   no  unknown   \n",
       "2   41  technician  married  secondary      no     1270     yes   no  unknown   \n",
       "3   55    services  married  secondary      no     2476     yes   no  unknown   \n",
       "4   54      admin.  married   tertiary      no      184      no   no  unknown   \n",
       "\n",
       "   day month  duration  campaign  pdays  previous poutcome deposit  \n",
       "0    5   may      1042         1     -1         0  unknown     yes  \n",
       "1    5   may      1467         1     -1         0  unknown     yes  \n",
       "2    5   may      1389         1     -1         0  unknown     yes  \n",
       "3    5   may       579         1     -1         0  unknown     yes  \n",
       "4    5   may       673         2     -1         0  unknown     yes  "
      ]
     },
     "execution_count": 25,
     "metadata": {},
     "output_type": "execute_result"
    }
   ],
   "source": [
    "\n",
    "df.head()"
   ]
  },
  {
   "cell_type": "code",
   "execution_count": null,
   "id": "0b2e4b61",
   "metadata": {},
   "outputs": [],
   "source": []
  }
 ],
 "metadata": {
  "kernelspec": {
   "display_name": "Python 3",
   "language": "python",
   "name": "python3"
  },
  "language_info": {
   "codemirror_mode": {
    "name": "ipython",
    "version": 3
   },
   "file_extension": ".py",
   "mimetype": "text/x-python",
   "name": "python",
   "nbconvert_exporter": "python",
   "pygments_lexer": "ipython3",
   "version": "3.8.8"
  }
 },
 "nbformat": 4,
 "nbformat_minor": 5
}
