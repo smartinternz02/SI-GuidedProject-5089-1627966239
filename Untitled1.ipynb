{
 "cells": [
  {
   "cell_type": "code",
   "execution_count": null,
   "metadata": {},
   "outputs": [],
   "source": [
    "import pandas as pd\n",
    "from nltk.corpus import stopwords\n",
    "from nltk.stem.porter import PorterStemmer\n",
    "import re\n",
    "import nltk\n",
    "from sklearn.feature_extraction.text import CountVectorizer\n",
    "from sklearn.feature_extraction.text import HashingVectorizer\n",
    "import matplotlib.pyplot as plt\n",
    "from sklearn.model_selection import train_test_split\n",
    "from sklearn.feature_extraction.text import TfidfVectorizer\n",
    "nltk.download('punkt')\n",
    "df=pd.read_csv('news.csv')\n",
    "df.head()\n",
    "df = df.isnull()\n",
    "df = df.fillna(' ')\n",
    "from nltk.tokenize import word_tokenize\n",
    "text = \"Hello everyone. Welcome to Analytics.\"\n",
    "word_tokenize(text)\n",
    "df.label = df.label.astype(str)\n",
    "df.label = df.label.str.strip()\n",
    "dict = { 'REAL' : '1' , 'FAKE' : '0'}\n",
    "df['label'] = df['label'].map(dict)\n",
    "df.head()\n",
    "x_df = df['text']\n",
    "y_df = df['label']\n",
    "from sklearn.feature_extraction.text import TfidfTransformer\n",
    "from sklearn.feature_extraction.text import CountVectorizer\n",
    "from sklearn.feature_extraction.text import TfidfVectorizer\n",
    "count_vectorizer = CountVectorizer()\n",
    "count_vectorizer.fit_transform(x_df)\n",
    "freq_term_matrix = count_vectorizer.transform(x_df)\n",
    "tfidf = TfidfTransformer(norm = \"l2\")\n",
    "tfidf.fit(freq_term_matrix)\n",
    "tf_idf_matrix = tfidf.fit_transform(freq_term_matrix)\n",
    "print(tf_idf_matrix)\n",
    "x_train, x_test, y_train, y_test = train_test_split(tf_idf_matrix,y_df, random_state=0)\n",
    "from sklearn.linear_model import LogisticRegression\n",
    "logreg = LogisticRegression()\n",
    "logreg.fit(x_train, y_train)\n",
    "Accuracy = logreg.score(x_test, y_test)\n",
    "print(Accuracy*100)"
   ]
  }
 ],
 "metadata": {
  "kernelspec": {
   "display_name": "Python 3",
   "language": "python",
   "name": "python3"
  },
  "language_info": {
   "codemirror_mode": {
    "name": "ipython",
    "version": 3
   },
   "file_extension": ".py",
   "mimetype": "text/x-python",
   "name": "python",
   "nbconvert_exporter": "python",
   "pygments_lexer": "ipython3",
   "version": "3.7.3"
  }
 },
 "nbformat": 4,
 "nbformat_minor": 2
}
